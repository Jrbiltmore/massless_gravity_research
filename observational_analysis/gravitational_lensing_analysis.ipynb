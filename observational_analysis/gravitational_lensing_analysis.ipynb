
{
 "cells": [
  {
   "cell_type": "markdown",
   "metadata": {},
   "source": [
    "# Gravitational Lensing Analysis
",
    "
",
    "## Introduction
",
    "
",
    "Gravitational lensing is the bending of light caused by the gravitational field of a massive object. This phenomenon can be used to study the distribution of mass in galaxies and clusters of galaxies. In this notebook, we analyze gravitational lensing effects caused by shell-like topological defects as proposed by Dr. Richard Lieu.
"
   ]
  },
  {
   "cell_type": "markdown",
   "metadata": {},
   "source": [
    "## Deflection Angle Calculation
",
    "
",
    "The deflection angle \( \alpha \) for a light ray passing near a shell-like topological defect can be approximated by:
",
    "
",
    "\[ \alpha = \frac{4G}{c^2} \int_{r_1}^{r_2} \frac{\Lambda}{r} dr \]
",
    "
",
    "where:
",
    "- \( G \) is the gravitational constant,
",
    "- \( c \) is the speed of light,
",
    "- \( \Lambda \) represents the effective density of the topological defect,
",
    "- \( r_1 \) and \( r_2 \) are the bounds of the shell structure.
",
    "
",
    "Let's calculate the deflection angle for a given set of parameters."
   ]
  },
  {
   "cell_type": "code",
   "execution_count": null,
   "metadata": {},
   "outputs": [],
   "source": [
    "# Import necessary libraries
",
    "import numpy as np
",
    "import matplotlib.pyplot as plt
",
    "
",
    "# Constants
",
    "G = 6.67430e-11  # gravitational constant in m^3 kg^-1 s^-2
",
    "c = 3.00e8  # speed of light in m/s
",
    "
",
    "# Parameters for the shell-like topological defect
",
    "r1 = 1e11  # inner radius in meters
",
    "r2 = 2e11  # outer radius in meters
",
    "Lambda = 1e12  # effective density in kg/m^3
",
    "
",
    "# Function to calculate deflection angle
",
    "def calculate_deflection_angle(G, c, Lambda, r1, r2):
",
    "    integral = Lambda * (np.log(r2) - np.log(r1))
",
    "    alpha = (4 * G / c**2) * integral
",
    "    return alpha
",
    "
",
    "# Calculate deflection angle
",
    "alpha = calculate_deflection_angle(G, c, Lambda, r1, r2)
",
    "print(f"Deflection Angle: {alpha} radians")"
   ]
  },
  {
   "cell_type": "markdown",
   "metadata": {},
   "source": [
    "## Gravitational Lensing Visualization
",
    "
",
    "We can visualize the gravitational lensing effect by plotting the deflection of light rays as they pass near the shell-like topological defects."
   ]
  },
  {
   "cell_type": "code",
   "execution_count": null,
   "metadata": {},
   "outputs": [],
   "source": [
    "# Define the light ray path
",
    "def light_ray_path(x, alpha):
",
    "    return x * np.tan(alpha)
",
    "
",
    "# Generate data for plotting
",
    "x = np.linspace(-1e11, 3e11, 1000)
",
    "y = light_ray_path(x, alpha)
",
    "
",
    "# Plot the light ray deflection
",
    "plt.figure(figsize=(10, 6))
",
    "plt.plot(x, y, label='Deflected Light Ray')
",
    "plt.axvline(x=r1, color='r', linestyle='--', label='Inner Shell Boundary')
",
    "plt.axvline(x=r2, color='g', linestyle='--', label='Outer Shell Boundary')
",
    "plt.xlabel('x position (m)')
",
    "plt.ylabel('y position (m)')
",
    "plt.title('Gravitational Lensing by Shell-like Topological Defects')
",
    "plt.legend()
",
    "plt.grid(True)
",
    "plt.show()"
   ]
  },
  {
   "cell_type": "markdown",
   "metadata": {},
   "source": [
    "## Comparison with Observational Data
",
    "
",
    "To validate the theoretical predictions, we can compare the calculated deflection angles with observational data from gravitational lensing surveys. This section will outline the steps for such a comparison."
   ]
  },
  {
   "cell_type": "markdown",
   "metadata": {},
   "source": [
    "## Conclusion
",
    "
",
    "This notebook has demonstrated the calculation and visualization of gravitational lensing effects caused by shell-like topological defects. Further research and observational comparisons are necessary to validate the model and explore its implications for astrophysics."
   ]
  }
 ],
 "metadata": {
  "kernelspec": {
   "display_name": "Python 3",
   "language": "python",
   "name": "python3"
  },
  "language_info": {
   "codemirror_mode": {
    "name": "ipython",
    "version": 3
   },
   "file_extension": ".py",
   "mimetype": "text/x-python",
   "name": "python",
   "nbconvert_exporter": "python",
   "pygments_lexer": "ipython3",
   "version": "3.8.8"
  }
 },
 "nbformat": 4,
 "nbformat_minor": 5
}
